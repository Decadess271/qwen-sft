{
 "cells": [
  {
   "cell_type": "markdown",
   "id": "db5d3b4a-43af-43ec-afd1-545e15febfe8",
   "metadata": {},
   "source": [
    "# 加载1.8B Chat Int4模型"
   ]
  },
  {
   "cell_type": "code",
   "execution_count": 204,
   "id": "51b962d5-3b98-408b-b132-2d5e73e6fa23",
   "metadata": {},
   "outputs": [
    {
     "name": "stderr",
     "output_type": "stream",
     "text": [
      "2023-12-31 15:06:46,295 - modelscope - WARNING - Model revision not specified, use revision: v1.0.0\n",
      "Try importing flash-attention for faster inference...\n",
      "Warning: import flash_attn rotary fail, please install FlashAttention rotary to get higher efficiency https://github.com/Dao-AILab/flash-attention/tree/main/csrc/rotary\n",
      "Warning: import flash_attn rms_norm fail, please install FlashAttention layer_norm to get higher efficiency https://github.com/Dao-AILab/flash-attention/tree/main/csrc/layer_norm\n",
      "Warning: import flash_attn fail, please install FlashAttention to get higher efficiency https://github.com/Dao-AILab/flash-attention\n"
     ]
    }
   ],
   "source": [
    "from modelscope import snapshot_download\n",
    "from transformers import AutoModelForCausalLM, AutoTokenizer\n",
    "\n",
    "model_dir = snapshot_download('qwen/Qwen-1_8B-Chat-Int4')\n",
    "\n",
    "tokenizer = AutoTokenizer.from_pretrained(model_dir, trust_remote_code=True)\n",
    "model = AutoModelForCausalLM.from_pretrained(\n",
    "    model_dir,\n",
    "    device_map=\"auto\",\n",
    "    trust_remote_code=True\n",
    ").eval()"
   ]
  },
  {
   "cell_type": "markdown",
   "id": "020af6b3-022e-4cad-967c-e8144e71780a",
   "metadata": {},
   "source": [
    "# 提示词工程"
   ]
  },
  {
   "cell_type": "code",
   "execution_count": 205,
   "id": "4cbb0900-6554-4751-bbc8-326fac486cbb",
   "metadata": {},
   "outputs": [],
   "source": [
    "# 城市数据\n",
    "with open('city.txt','r',encoding='utf-8') as fp:\n",
    "    city_list=fp.readlines()\n",
    "    city_list=[line.strip().split(' ')[1] for line in city_list]"
   ]
  },
  {
   "cell_type": "code",
   "execution_count": 206,
   "id": "b6338a20-6c9c-49fa-9f5b-9c606d747260",
   "metadata": {},
   "outputs": [
    {
     "name": "stdout",
     "output_type": "stream",
     "text": [
      "city: 青岛\n",
      "date: 1月2号\n"
     ]
    }
   ],
   "source": [
    "Q='1月2号青岛天气预报'\n",
    "\n",
    "prompt_template='''\n",
    "分析问题中出现过的城市和日期\n",
    "\n",
    "交互格式如下：\n",
    "\n",
    "问题: 用户的原始问题，里面可能包含了城市和日期信息\n",
    "回答: 提炼问题中出现的城市名称和具体日期，按如下格式整理返回:\n",
    "    city: 值是城市的名字\n",
    "    date: 值是具体日期\n",
    "\n",
    "现在开始。\n",
    "\n",
    "问题: %s\n",
    "回答: \n",
    "'''\n",
    "\n",
    "prompt=prompt_template%(Q,)\n",
    "#print(prompt)\n",
    "\n",
    "resp,hist=model.chat(tokenizer,prompt,history=None)\n",
    "print(resp)"
   ]
  },
  {
   "cell_type": "markdown",
   "id": "65138cce-9cd6-4dcf-8d61-025a13864f6c",
   "metadata": {},
   "source": [
    "# 生成SFT微调数据"
   ]
  },
  {
   "cell_type": "markdown",
   "id": "d44d76f5-0008-42a1-a459-0d9d54d23ce6",
   "metadata": {},
   "source": [
    "Qwen的SFT数据格式要求:\n",
    "```\n",
    "[\n",
    "  {\n",
    "    \"id\": \"identity_0\",\n",
    "    \"conversations\": [\n",
    "      {\n",
    "        \"from\": \"user\",\n",
    "        \"value\": \"你好\"\n",
    "      },\n",
    "      {\n",
    "        \"from\": \"assistant\",\n",
    "        \"value\": \"我是一个语言模型，我叫通义千问。\"\n",
    "      }\n",
    "    ]\n",
    "  }\n",
    "]\n",
    "```"
   ]
  },
  {
   "cell_type": "code",
   "execution_count": 207,
   "id": "7a9673d1-3359-41ef-b851-a4be82765701",
   "metadata": {},
   "outputs": [
    {
     "name": "stdout",
     "output_type": "stream",
     "text": [
      "样本数量: 1000\n"
     ]
    }
   ],
   "source": [
    "import random\n",
    "import json\n",
    "import time \n",
    "\n",
    "train_data=[]\n",
    "\n",
    "Q_list=[\n",
    "    ('{city}{year}年{month}月{day}日的天气','%Y-%m-%d'),\n",
    "    ('{city}{year}年{month}月{day}号的天气','%Y-%m-%d'),\n",
    "    ('{city}{month}月{day}日的天气','%m-%d'),\n",
    "    ('{city}{month}月{day}号的天气','%m-%d'),\n",
    "\n",
    "    ('{year}年{month}月{day}日{city}的天气','%Y-%m-%d'),\n",
    "    ('{year}年{month}月{day}号{city}的天气','%Y-%m-%d'),\n",
    "    ('{month}月{day}日{city}的天气','%m-%d'),\n",
    "    ('{month}月{day}号{city}的天气','%m-%d'),\n",
    "]\n",
    "\n",
    "# 生成一批\"1月2号\"、\"1月2日\"、\"2023年1月2号\", \"2023年1月2日\", \"2023-02-02\", \"03-02\"之类的话术, 教会它做日期转换\n",
    "for i in range(1000):\n",
    "    Q=Q_list[random.randint(0,len(Q_list)-1)]\n",
    "    city=city_list[random.randint(0,len(city_list)-1)]\n",
    "    year=random.randint(1990,2025)\n",
    "    month=random.randint(1,12)\n",
    "    day=random.randint(1,28)\n",
    "    time_str='{}-{}-{}'.format(year,month,day)\n",
    "    date_field=time.strftime(Q[1],time.strptime(time_str,'%Y-%m-%d'))\n",
    "    \n",
    "    Q=Q[0].format(city=city,year=year,month=month,day=day) # 问题\n",
    "    A='city:%s\\ndate:%s'%(city,date_field) # 回答\n",
    "    example={\n",
    "        'id': 'identity_{}'.format(i),\n",
    "        'conversations':[\n",
    "            {\n",
    "                'from':'user',\n",
    "                'value':prompt_template%(Q,),\n",
    "            },\n",
    "            {\n",
    "                'from':'assistant',\n",
    "                'value':A,\n",
    "            },\n",
    "        ]\n",
    "    }\n",
    "    #print(example)\n",
    "    train_data.append(example)\n",
    "\n",
    "with open('train.txt','w',encoding='utf-8') as fp:\n",
    "    fp.write(json.dumps(train_data))\n",
    "print('样本数量:',len(train_data))"
   ]
  },
  {
   "cell_type": "markdown",
   "id": "df864230-32ac-4e01-ab5a-83a6758c773f",
   "metadata": {},
   "source": [
    "# 微调模型，生成到output_qwen\n",
    "\n",
    "bash finetune/finetune_qlora_single_gpu.sh  -m /root/.cache/modelscope/hub/qwen/Qwen-1_8B-Chat-Int4 -d /root/Qwen/train.txt"
   ]
  },
  {
   "cell_type": "markdown",
   "id": "799b107b-4c01-4853-bb51-ca1552ab3314",
   "metadata": {},
   "source": [
    "# 加载SFT后的模型"
   ]
  },
  {
   "cell_type": "code",
   "execution_count": 208,
   "id": "60a4a4f0-32ef-4254-a3f1-31648e580fa6",
   "metadata": {},
   "outputs": [
    {
     "name": "stderr",
     "output_type": "stream",
     "text": [
      "Try importing flash-attention for faster inference...\n",
      "Warning: import flash_attn rotary fail, please install FlashAttention rotary to get higher efficiency https://github.com/Dao-AILab/flash-attention/tree/main/csrc/rotary\n",
      "Warning: import flash_attn rms_norm fail, please install FlashAttention layer_norm to get higher efficiency https://github.com/Dao-AILab/flash-attention/tree/main/csrc/layer_norm\n",
      "Warning: import flash_attn fail, please install FlashAttention to get higher efficiency https://github.com/Dao-AILab/flash-attention\n"
     ]
    }
   ],
   "source": [
    "from peft import AutoPeftModelForCausalLM\n",
    "\n",
    "model = AutoPeftModelForCausalLM.from_pretrained(\n",
    "    'output_qwen', # path to the output directory\n",
    "    device_map=\"auto\",\n",
    "    trust_remote_code=True\n",
    ").eval()"
   ]
  },
  {
   "cell_type": "code",
   "execution_count": 212,
   "id": "5a053c4a-d8b1-44e9-b4f0-0906f9115333",
   "metadata": {},
   "outputs": [
    {
     "name": "stdout",
     "output_type": "stream",
     "text": [
      "Q:2020年4月16号三亚下雨么？\n",
      "A:city:三亚\n",
      "date:2020-04-16\n",
      "\n",
      "Q:青岛3-15号天气预报\n",
      "A:city:青岛\n",
      "date:03-15\n",
      "\n",
      "Q:5月6号下雪么，城市是威海\n",
      "A:city:威海\n",
      "date:05-06\n",
      "\n",
      "Q:青岛2023年12月30号有雾霾么?\n",
      "A:city:青岛\n",
      "date:2023-12-30\n",
      "\n",
      "Q:我打算6月1号去北京旅游，请问天气怎么样？\n",
      "A:city:北京市\n",
      "date:06-01\n",
      "\n"
     ]
    }
   ],
   "source": [
    "model.generation_config.top_p=0 # 只选择概率最高的token\n",
    "\n",
    "Q_list=['2020年4月16号三亚下雨么？','青岛3-15号天气预报','5月6号下雪么，城市是威海','青岛2023年12月30号有雾霾么?','我打算6月1号去北京旅游，请问天气怎么样？']\n",
    "for Q in Q_list:\n",
    "    prompt=prompt_template%(Q,)\n",
    "    resp,hist=model.chat(tokenizer,prompt,history=None)\n",
    "    print('Q:%s\\nA:%s\\n'%(Q,resp))"
   ]
  },
  {
   "cell_type": "code",
   "execution_count": 213,
   "id": "39e860c1-4572-456d-aedc-703f192f599a",
   "metadata": {},
   "outputs": [
    {
     "name": "stdout",
     "output_type": "stream",
     "text": [
      "青岛海边钓鱼需要注意以下几点：\n",
      "1、选择合适的地点：青岛海边的鱼塘一般分为几个区域，每个区域都有自己的特点和优势。比如北部海域水质较好，适合鱼类生长；南部海域水质较差，适合鱼类避风。\n",
      "2、选择合适的季节：青岛海边钓鱼的最佳季节是春季和秋季，这两个季节温度适宜，而且海风较大，有利于鱼类的活动。\n",
      "3、选择合适的工具：青岛海边钓鱼常用的工具包括钓竿、饵料、鱼线、鱼钩等。其中钓竿的选择要根据个人的技术水平来定，饵料的选择要根据当地的海洋环境来定。\n",
      "4、注意安全：青岛海边钓鱼时要注意安全，不要在危险的地方钓鱼，也不要随意丢弃垃圾。\n"
     ]
    }
   ],
   "source": [
    "prompt='青岛海边钓鱼需要特别注意什么？'\n",
    "resp,hist=model.chat(tokenizer,prompt,history=None)\n",
    "print(resp)"
   ]
  }
 ],
 "metadata": {
  "kernelspec": {
   "display_name": "Python 3 (ipykernel)",
   "language": "python",
   "name": "python3"
  },
  "language_info": {
   "codemirror_mode": {
    "name": "ipython",
    "version": 3
   },
   "file_extension": ".py",
   "mimetype": "text/x-python",
   "name": "python",
   "nbconvert_exporter": "python",
   "pygments_lexer": "ipython3",
   "version": "3.8.10"
  }
 },
 "nbformat": 4,
 "nbformat_minor": 5
}
